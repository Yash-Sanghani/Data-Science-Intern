{
 "cells": [
  {
   "cell_type": "markdown",
   "metadata": {},
   "source": [
    "#  yash Sanghani Internship Task 2 [ 27/05/2021]"
   ]
  },
  {
   "cell_type": "code",
   "execution_count": 20,
   "metadata": {},
   "outputs": [],
   "source": [
    "import pandas as pd\n",
    "import matplotlib.pyplot as plt\n",
    "%matplotlib inline  \n",
    "import nltk\n",
    "from nltk import word_tokenize, sent_tokenize\n",
    "from nltk.corpus import stopwords\n",
    "from nltk.stem import LancasterStemmer, WordNetLemmatizer, PorterStemmer\n",
    "from wordcloud import WordCloud, STOPWORDS\n",
    "from textblob import TextBlob\n"
   ]
  },
  {
   "cell_type": "code",
   "execution_count": 4,
   "metadata": {},
   "outputs": [],
   "source": [
    "df = pd.read_csv(r\"D:\\data tgraining\\AllProductReviews.csv\")"
   ]
  },
  {
   "cell_type": "code",
   "execution_count": 5,
   "metadata": {},
   "outputs": [
    {
     "data": {
      "text/plain": [
       "(14337, 4)"
      ]
     },
     "execution_count": 5,
     "metadata": {},
     "output_type": "execute_result"
    }
   ],
   "source": [
    "df.shape"
   ]
  },
  {
   "cell_type": "code",
   "execution_count": 6,
   "metadata": {},
   "outputs": [
    {
     "data": {
      "text/plain": [
       "Index(['ReviewTitle', 'ReviewBody', 'ReviewStar', 'Product'], dtype='object')"
      ]
     },
     "execution_count": 6,
     "metadata": {},
     "output_type": "execute_result"
    }
   ],
   "source": [
    "df.columns"
   ]
  },
  {
   "cell_type": "code",
   "execution_count": 10,
   "metadata": {},
   "outputs": [
    {
     "data": {
      "text/plain": [
       "<matplotlib.axes._subplots.AxesSubplot at 0x236ddbfeb80>"
      ]
     },
     "execution_count": 10,
     "metadata": {},
     "output_type": "execute_result"
    },
    {
     "data": {
      "image/png": "[encoded data removed]",
      "text/plain": [
       "<Figure size 432x288 with 1 Axes>"
      ]
     },
     "metadata": {
      "needs_background": "light"
     },
     "output_type": "display_data"
    }
   ],
   "source": [
    "df.ReviewStar.value_counts().plot(kind='bar')"
   ]
  },
  {
   "cell_type": "code",
   "execution_count": 11,
   "metadata": {},
   "outputs": [
    {
     "data": {
      "text/plain": [
       "'i bought itfor 999,I purchased it second time, gifted first one to brother. This is really good.Sound quality is really good.You can connect 2 devices at a time.I connect laptop and mobile both.when listening muaic on Lappy, if u get a call, it switches to mobile,this switch between device is not good but again in this price its awesome.Battery stand by is 36 hours for me, and i have used it continously for 8 hours in one go. So Battery life is pretty awesome.Comfortable on ear.\\n'"
      ]
     },
     "execution_count": 11,
     "metadata": {},
     "output_type": "execute_result"
    }
   ],
   "source": [
    "df['ReviewBody'] = df['ReviewBody'].astype(str)\n",
    "df['ReviewBody'][2]"
   ]
  },
  {
   "cell_type": "code",
   "execution_count": 12,
   "metadata": {},
   "outputs": [
    {
     "data": {
      "text/plain": [
       "'i bought itfor 999,i purchased it second time, gifted first one to brother. this is really good.sound quality is really good.you can connect 2 devices at a time.i connect laptop and mobile both.when listening muaic on lappy, if u get a call, it switches to mobile,this switch between device is not good but again in this price its awesome.battery stand by is 36 hours for me, and i have used it continously for 8 hours in one go. so battery life is pretty awesome.comfortable on ear.'"
      ]
     },
     "execution_count": 12,
     "metadata": {},
     "output_type": "execute_result"
    }
   ],
   "source": [
    "df['ReviewBody'] = df['ReviewBody'].apply(lambda x: \" \".join(x.lower() for x in x.split()))\n",
    "df['ReviewBody'][2]"
   ]
  },
  {
   "cell_type": "code",
   "execution_count": 14,
   "metadata": {},
   "outputs": [
    {
     "data": {
      "text/plain": [
       "'i bought itfor 999i purchased it second time gifted first one to brother this is really goodsound quality is really goodyou can connect 2 devices at a timei connect laptop and mobile bothwhen listening muaic on lappy if u get a call it switches to mobilethis switch between device is not good but again in this price its awesomebattery stand by is 36 hours for me and i have used it continously for 8 hours in one go so battery life is pretty awesomecomfortable on ear'"
      ]
     },
     "execution_count": 14,
     "metadata": {},
     "output_type": "execute_result"
    }
   ],
   "source": [
    "df['ReviewBody'] = df['ReviewBody'].str.replace('[^\\w\\s]','')\n",
    "df['ReviewBody'][2]"
   ]
  },
  {
   "cell_type": "code",
   "execution_count": 24,
   "metadata": {},
   "outputs": [
    {
     "data": {
      "text/plain": [
       "'bought itfor 999i purchased second time gifted first one brother really goodsound quality really goodyou connect 2 devices timei connect laptop mobile bothwhen listening muaic lappy u get call switches mobilethis switch device good price awesomebattery stand 36 hours used continously 8 hours one go battery life pretty awesomecomfortable ear'"
      ]
     },
     "execution_count": 24,
     "metadata": {},
     "output_type": "execute_result"
    }
   ],
   "source": [
    "stop = stopwords.words('english')\n",
    "df['ReviewBody'] = df['ReviewBody'].apply(lambda x: \" \".join(x for x in x.split() if x not in stop))\n",
    "df['ReviewBody'][2]"
   ]
  },
  {
   "cell_type": "code",
   "execution_count": 25,
   "metadata": {},
   "outputs": [
    {
     "data": {
      "text/plain": [
       "'bought itfor 999i purchas second time gift first one brother realli goodsound qualiti realli goodyou connect 2 devic timei connect laptop mobil bothwhen listen muaic lappi u get call switch mobilethi switch devic good price awesomebatteri stand 36 hour use contin 8 hour one go batteri life pretti awesomecomfort ear'"
      ]
     },
     "execution_count": 25,
     "metadata": {},
     "output_type": "execute_result"
    }
   ],
   "source": [
    "st = PorterStemmer()\n",
    "df['ReviewBody'] = df['ReviewBody'].apply(lambda x: \" \".join([st.stem(word) for word in x.split()]))\n",
    "df['ReviewBody'][2]"
   ]
  },
  {
   "cell_type": "code",
   "execution_count": 27,
   "metadata": {},
   "outputs": [
    {
     "data": {
      "text/plain": [
       "0        (0.06750000000000003, 0.5391666666666667)\n",
       "1          (0.405952380952381, 0.5226190476190476)\n",
       "2        (0.31666666666666665, 0.3111111111111111)\n",
       "3                                      (0.55, 0.5)\n",
       "4        (0.10000000000000005, 0.5533333333333333)\n",
       "                           ...                    \n",
       "14332                    (0.7, 0.6000000000000001)\n",
       "14333                                   (0.0, 0.0)\n",
       "14334                                   (0.4, 0.4)\n",
       "14335                  (0.49000000000000005, 0.52)\n",
       "14336                                  (0.0, 0.75)\n",
       "Name: senti_score, Length: 14337, dtype: object"
      ]
     },
     "execution_count": 27,
     "metadata": {},
     "output_type": "execute_result"
    }
   ],
   "source": [
    "def senti(x):\n",
    "    return TextBlob(x).sentiment  \n",
    " \n",
    "df['senti_score'] = df['ReviewBody'].apply(senti)\n",
    " \n",
    "df.senti_score"
   ]
  },
  {
   "cell_type": "code",
   "execution_count": 30,
   "metadata": {},
   "outputs": [
    {
     "name": "stdout",
     "output_type": "stream",
     "text": [
      "Counter({'NN': 5, ',': 2, 'VBZ': 1, 'CD': 1, 'IN': 1, 'DT': 1, 'JJS': 1, 'NNS': 1, 'TO': 1, 'VB': 1, 'JJ': 1, 'CC': 1, 'RB': 1, 'JJR': 1, '.': 1})\n"
     ]
    }
   ],
   "source": [
    "from collections import Counter\n",
    "import nltk\n",
    "text = \" coursera is one of the best sites to learn WEB, SAP, Ethical Hacking and much more online.\"\n",
    "lower_case = text.lower()\n",
    "tokens = nltk.word_tokenize(lower_case)\n",
    "tags = nltk.pos_tag(tokens)\n",
    "counts = Counter( tag for word,  tag in tags)\n",
    "print(counts)"
   ]
  },
  {
   "cell_type": "code",
   "execution_count": 38,
   "metadata": {},
   "outputs": [
    {
     "name": "stdout",
     "output_type": "stream",
     "text": [
      " : 84\n",
      ",: 3\n",
      ".: 4\n",
      "A: 1\n",
      "F: 3\n",
      "a: 27\n",
      "b: 10\n",
      "c: 25\n",
      "d: 16\n",
      "e: 59\n",
      "f: 14\n",
      "g: 4\n",
      "h: 9\n",
      "i: 27\n",
      "l: 9\n",
      "m: 21\n",
      "n: 36\n",
      "o: 32\n",
      "p: 10\n",
      "q: 5\n",
      "r: 34\n",
      "s: 18\n",
      "t: 33\n",
      "u: 24\n",
      "v: 1\n",
      "w: 1\n",
      "x: 4\n",
      "y: 10\n"
     ]
    },
    {
     "data": {
      "image/png": "[encoded data removed]",
      "text/plain": [
       "<Figure size 432x288 with 1 Axes>"
      ]
     },
     "metadata": {
      "needs_background": "light"
     },
     "output_type": "display_data"
    },
    {
     "data": {
      "text/plain": [
       "<matplotlib.axes._subplots.AxesSubplot at 0x236eca31280>"
      ]
     },
     "execution_count": 38,
     "metadata": {},
     "output_type": "execute_result"
    }
   ],
   "source": [
    "\n",
    "import nltk\n",
    "from nltk.corpus import webtext\n",
    "from nltk.probability import FreqDist\n",
    " \n",
    "\n",
    "wt_words = \"A frequency distribution records the number of times each outcome of an experiment has occurred. For example, a frequency distribution could be used to record the frequency of each word type in a document. Formally, a frequency distribution can be defined as a function mapping from each sample to the number of times that sample occurred as an outcome.Frequency distributions are generally constructed by running a number of experiments, and incrementing the count for a sample every time it is an outcome of an experiment.\"\n",
    "data_analysis = nltk.FreqDist(wt_words)\n",
    " \n",
    "# Let's take the specific words only if their frequency is greater than 3.\n",
    "filter_words = dict([(m, n) for m, n in data_analysis.items()])\n",
    " \n",
    "for key in sorted(filter_words):\n",
    "    print(\"%s: %s\" % (key, filter_words[key]))\n",
    " \n",
    "data_analysis = nltk.FreqDist(filter_words)\n",
    " \n",
    "data_analysis.plot(25, cumulative=False)"
   ]
  },
  {
   "cell_type": "code",
   "execution_count": 49,
   "metadata": {},
   "outputs": [
    {
     "name": "stdout",
     "output_type": "stream",
     "text": [
      "Enter phonr number with - :125-4544-5555\n",
      "Invalid phone number\n"
     ]
    }
   ],
   "source": [
    "import re\n",
    "phonenumber=input(\"Enter phonr number with - :\")\n",
    "\n",
    "regex= \"\\w{3}-\\w{3}-\\w{4}\"\n",
    "if re.search(regex, phonenumber):\n",
    "        print(\"Valid phone number\")\n",
    "else:\n",
    "        print(\"Invalid phone number\")\n"
   ]
  },
  {
   "cell_type": "code",
   "execution_count": 52,
   "metadata": {},
   "outputs": [
    {
     "name": "stdout",
     "output_type": "stream",
     "text": [
      "Enter your Mail Id:jay@.com\n",
      "Valid Email Id\n"
     ]
    }
   ],
   "source": [
    "import re\n",
    "email = input(\"Enter your Mail Id:\")\n",
    "regex= \"^[a-zA-Z0-9+_.-]+@[a-zA-Z0-9.-]+$\"\n",
    "if re.search(regex,email):\n",
    "    print(\"Valid Email Id\")\n",
    "else:\n",
    "    print(\"Invalid Email Id\")"
   ]
  },
  {
   "cell_type": "code",
   "execution_count": null,
   "metadata": {},
   "outputs": [],
   "source": []
  }
 ],
 "metadata": {
  "kernelspec": {
   "display_name": "Python 3",
   "language": "python",
   "name": "python3"
  },
  "language_info": {
   "codemirror_mode": {
    "name": "ipython",
    "version": 3
   },
   "file_extension": ".py",
   "mimetype": "text/x-python",
   "name": "python",
   "nbconvert_exporter": "python",
   "pygments_lexer": "ipython3",
   "version": "3.8.3"
  }
 },
 "nbformat": 4,
 "nbformat_minor": 4
}
