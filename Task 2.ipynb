{
 "cells": [
  {
   "cell_type": "markdown",
   "metadata": {},
   "source": [
    "#  yash Sanghani Internship Task 2 [ 27/05/2021]"
   ]
  },
  {
   "cell_type": "markdown",
   "metadata": {},
   "source": [
    "# # Aim: \tTake a number check if a number is less than 100 or not. If it is less than 100 then check if it is odd or even. "
   ]
  },
  {
   "cell_type": "code",
   "execution_count": 3,
   "metadata": {},
   "outputs": [
    {
     "name": "stdout",
     "output_type": "stream",
     "text": [
      "enter a Number45\n",
      "Number 45 is Less than 100 and is even Number\n"
     ]
    }
   ],
   "source": [
    "x = int(input(\"enter a Number\"))\n",
    "if x<100:\n",
    "    if x%2 == 0:\n",
    "        print(\"Number\",x,\"is Less than 100 and is even Number\")\n",
    "    else:\n",
    "        print(\"Number\",x, \"is Less than 100 and is even Number\")"
   ]
  },
  {
   "cell_type": "markdown",
   "metadata": {},
   "source": [
    "# # Aim: Take a number to print the square of a number if it is less than 10"
   ]
  },
  {
   "cell_type": "code",
   "execution_count": 5,
   "metadata": {},
   "outputs": [
    {
     "name": "stdout",
     "output_type": "stream",
     "text": [
      "enter a number5\n",
      "25\n"
     ]
    }
   ],
   "source": [
    "x=int(input(\"enter a number\"))\n",
    "if x<10:\n",
    "    print(x**2)"
   ]
  },
  {
   "cell_type": "markdown",
   "metadata": {},
   "source": [
    "# # Aim: 11.\tTake a number and check whether it is zero, positive or negative using nested IF…ELSE statement "
   ]
  },
  {
   "cell_type": "code",
   "execution_count": 9,
   "metadata": {},
   "outputs": [
    {
     "name": "stdout",
     "output_type": "stream",
     "text": [
      "Enter a Number0\n",
      "Number is Zero\n"
     ]
    }
   ],
   "source": [
    "x=int(input(\"Enter a Number\"))\n",
    "if x%2==0:\n",
    "    if x==0:\n",
    "        print(\"Number is Zero\")\n",
    "    else:\n",
    "        print(\"Positive Number\")\n",
    "        \n",
    "else:\n",
    "    print(\"Negative Number\")"
   ]
  },
  {
   "cell_type": "markdown",
   "metadata": {},
   "source": [
    "# # Take 3 numbers and find greatest number using nested IF….ELSE statement."
   ]
  },
  {
   "cell_type": "code",
   "execution_count": 10,
   "metadata": {},
   "outputs": [
    {
     "name": "stdout",
     "output_type": "stream",
     "text": [
      "Enter first number:60\n",
      "Enter second number:12\n",
      "Enter third number:25\n",
      "Greatest is: 60\n"
     ]
    }
   ],
   "source": [
    "x = int(input(\"Enter first number:\"))\n",
    "y = int(input(\"Enter second number:\"))\n",
    "z = int(input(\"Enter third number:\"))\n",
    "\n",
    "if x > y:\n",
    "    if x > z:\n",
    "        print(\"Greatest is:\", x)\n",
    "    else:\n",
    "        print(\"Greatest is:\", z)\n",
    "else:\n",
    "    if y > z:\n",
    "        print(\"Greatest is:\", y)\n",
    "    else:\n",
    "        print(\"Greatest is:\", z)"
   ]
  },
  {
   "cell_type": "markdown",
   "metadata": {},
   "source": [
    "# # Take 3 numbers and find smallest number using logical operator.\n"
   ]
  },
  {
   "cell_type": "markdown",
   "metadata": {},
   "source": [
    "# # Write a program to swap 2 numbers without taking third variable"
   ]
  },
  {
   "cell_type": "code",
   "execution_count": 11,
   "metadata": {},
   "outputs": [
    {
     "name": "stdout",
     "output_type": "stream",
     "text": [
      "Minimum of 3 numbers is 68\n"
     ]
    }
   ],
   "source": [
    "def smallest(x, y, z):\n",
    " \n",
    "    if (not (y / x)): # Same as \"if (y < x)\"\n",
    "        return y if (not (y / z)) else z\n",
    "    return x if (not (x / z)) else z\n",
    " \n",
    "# Driver Code\n",
    "if __name__== \"__main__\":\n",
    " \n",
    "    x = 78\n",
    "    y = 88\n",
    "    z = 68\n",
    "    print(\"Minimum of 3 numbers is\",\n",
    "                  smallest(x, y, z))"
   ]
  },
  {
   "cell_type": "markdown",
   "metadata": {},
   "source": [
    "# # Take starting number and ending number from the user and print following series."
   ]
  },
  {
   "cell_type": "code",
   "execution_count": 2,
   "metadata": {},
   "outputs": [
    {
     "name": "stdout",
     "output_type": "stream",
     "text": [
      "Enter Starting NO.30\n",
      "Enter Ending NO.0\n",
      "30\n",
      "27\n",
      "24\n",
      "21\n",
      "18\n",
      "15\n",
      "12\n",
      "9\n",
      "6\n",
      "3\n",
      "0\n"
     ]
    }
   ],
   "source": [
    "s = int(input(\"Enter Starting NO.\"))\n",
    "e = int(input(\"Enter Ending NO.\"))\n",
    "for i in range(e,s+1):\n",
    "    print(s)\n",
    "    s = s-3\n",
    "    if s == -3:\n",
    "        break"
   ]
  },
  {
   "cell_type": "code",
   "execution_count": null,
   "metadata": {},
   "outputs": [],
   "source": []
  }
 ],
 "metadata": {
  "kernelspec": {
   "display_name": "Python 3",
   "language": "python",
   "name": "python3"
  },
  "language_info": {
   "codemirror_mode": {
    "name": "ipython",
    "version": 3
   },
   "file_extension": ".py",
   "mimetype": "text/x-python",
   "name": "python",
   "nbconvert_exporter": "python",
   "pygments_lexer": "ipython3",
   "version": "3.8.3"
  }
 },
 "nbformat": 4,
 "nbformat_minor": 4
}
